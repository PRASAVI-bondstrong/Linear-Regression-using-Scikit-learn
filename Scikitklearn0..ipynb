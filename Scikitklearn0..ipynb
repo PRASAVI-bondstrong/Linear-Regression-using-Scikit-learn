{
 "cells": [
  {
   "cell_type": "code",
   "execution_count": 1,
   "id": "0a3c8439-e715-4c17-acc6-4edf70783ff0",
   "metadata": {},
   "outputs": [
    {
     "name": "stdout",
     "output_type": "stream",
     "text": [
      "Slope: 2.008346394969744\n",
      "Intercept: 1.0440333303749405\n",
      "First 5 predictions:\n",
      "[[1.04403333]\n",
      " [1.2468966 ]\n",
      " [1.44975987]\n",
      " [1.65262315]\n",
      " [1.85548642]]\n"
     ]
    }
   ],
   "source": [
    "import numpy as np\n",
    "from sklearn.linear_model import LinearRegression\n",
    "\n",
    "# Data Generation\n",
    "x = np.linspace(0, 10, 100).reshape(-1, 1)  # Reshape to a column vector\n",
    "\n",
    "# Generate a corresponding y with some noise for a linear relationship\n",
    "y = 2 * x + 1 + np.random.randn(100, 1) * 2  # Linear relation with noise\n",
    "\n",
    "# Linear Regression with Scikit-learn\n",
    "model = LinearRegression()\n",
    "model.fit(x, y)\n",
    "\n",
    "# Get the coefficients (slope and intercept)\n",
    "slope = model.coef_[0][0]\n",
    "intercept = model.intercept_[0]\n",
    "\n",
    "print(f\"Slope: {slope}\")\n",
    "print(f\"Intercept: {intercept}\")\n",
    "\n",
    "# Optionally, we can make predictions\n",
    "predictions = model.predict(x)\n",
    "\n",
    "# Example,print the first 5 predictions\n",
    "print(\"First 5 predictions:\")\n",
    "print(predictions[:5])"
   ]
  },
  {
   "cell_type": "code",
   "execution_count": 3,
   "id": "93b0d80e-e985-45c5-a9c8-b2ce48e36a2b",
   "metadata": {},
   "outputs": [
    {
     "name": "stdout",
     "output_type": "stream",
     "text": [
      "x array:\n",
      "[ 0.          0.1010101   0.2020202   0.3030303   0.4040404   0.50505051\n",
      "  0.60606061  0.70707071  0.80808081  0.90909091  1.01010101  1.11111111\n",
      "  1.21212121  1.31313131  1.41414141  1.51515152  1.61616162  1.71717172\n",
      "  1.81818182  1.91919192  2.02020202  2.12121212  2.22222222  2.32323232\n",
      "  2.42424242  2.52525253  2.62626263  2.72727273  2.82828283  2.92929293\n",
      "  3.03030303  3.13131313  3.23232323  3.33333333  3.43434343  3.53535354\n",
      "  3.63636364  3.73737374  3.83838384  3.93939394  4.04040404  4.14141414\n",
      "  4.24242424  4.34343434  4.44444444  4.54545455  4.64646465  4.74747475\n",
      "  4.84848485  4.94949495  5.05050505  5.15151515  5.25252525  5.35353535\n",
      "  5.45454545  5.55555556  5.65656566  5.75757576  5.85858586  5.95959596\n",
      "  6.06060606  6.16161616  6.26262626  6.36363636  6.46464646  6.56565657\n",
      "  6.66666667  6.76767677  6.86868687  6.96969697  7.07070707  7.17171717\n",
      "  7.27272727  7.37373737  7.47474747  7.57575758  7.67676768  7.77777778\n",
      "  7.87878788  7.97979798  8.08080808  8.18181818  8.28282828  8.38383838\n",
      "  8.48484848  8.58585859  8.68686869  8.78787879  8.88888889  8.98989899\n",
      "  9.09090909  9.19191919  9.29292929  9.39393939  9.49494949  9.5959596\n",
      "  9.6969697   9.7979798   9.8989899  10.        ]\n",
      "\n",
      "y array:\n",
      "[ 5.61577864  4.88473869  5.03603235  5.84044713  6.02419106  6.83634052\n",
      "  6.54740236  6.80832348  4.80366925  5.70243646  6.9079442   5.52081833\n",
      "  8.85778325  8.77254014  8.8624351   9.45667303  8.32823292  9.05629893\n",
      "  8.00010524  9.09254538  8.99587709  9.20133234  9.8487349   8.41569713\n",
      " 10.87315634 10.19406448  7.89329334  9.30926617  9.76940835  9.11900088\n",
      "  9.78152119 11.09267157 11.02118424 12.2556806  10.66058588 11.77452699\n",
      " 12.44274329 11.96002049 11.76172234 11.96780312 14.06550238 14.10580899\n",
      " 13.10981281 12.36606789 13.52634991 13.64263681 14.59079534 14.63829595\n",
      " 13.27743506 14.29279781 14.88357079 15.96817143 15.8587881  14.97937138\n",
      " 15.19872879 16.36597477 16.89741506 15.56406023 16.24967965 14.91708474\n",
      " 16.83459944 16.10503158 18.5708724  16.81697617 19.87207876 18.16011987\n",
      " 19.16095422 19.46841068 18.35947976 18.32480428 20.29043323 19.2926834\n",
      " 19.71439846 18.07630811 21.1639832  20.52606003 19.66500548 22.47147971\n",
      " 20.8605812  20.20024583 21.6344351  21.02467152 21.00071787 20.32827081\n",
      " 22.32636862 22.48125592 20.39751512 21.31963168 24.29788902 24.12564152\n",
      " 22.50617007 23.22574979 23.73750167 21.28031103 24.70181495 25.16998195\n",
      " 24.78728739 24.8909351  24.56824903 25.71045718]\n"
     ]
    }
   ],
   "source": [
    "import numpy as np\n",
    "\n",
    "# Data Generation\n",
    "x = np.linspace(0, 10, 100)  # 100 evenly spaced numbers between 0 and 10\n",
    "noise = np.random.normal(0, 1, 100)  # Noise with mean 0, std dev 1 (adjust as needed)\n",
    "y = 2 * x + 5 + noise\n",
    "\n",
    "print(\"x array:\")\n",
    "print(x)\n",
    "print(\"\\ny array:\")\n",
    "print(y)"
   ]
  },
  {
   "cell_type": "code",
   "execution_count": 5,
   "id": "d9e0c888-97ac-4265-a705-ae847f92e75b",
   "metadata": {},
   "outputs": [
    {
     "name": "stdout",
     "output_type": "stream",
     "text": [
      "Mean Squared Error (MSE): 1.2576526046053293\n",
      "R-squared (R2): 0.9604059187775074\n",
      "Intercept: 4.68047745214426\n",
      "Slope: 2.0350322499822258\n"
     ]
    }
   ],
   "source": [
    "import numpy as np\n",
    "from sklearn.linear_model import LinearRegression\n",
    "from sklearn.model_selection import train_test_split\n",
    "from sklearn.metrics import mean_squared_error, r2_score\n",
    "\n",
    "# 1. Data Generation:\n",
    "x = np.linspace(0, 10, 100).reshape(-1, 1)  # Reshape for scikit-learn\n",
    "noise = np.random.normal(0, 1, 100).reshape(-1, 1)  # Small standard deviation (1)\n",
    "y = 2 * x + 5 + noise\n",
    "\n",
    "# 2. Split Data:\n",
    "x_train, x_test, y_train, y_test = train_test_split(x, y, test_size=0.2, random_state=42)\n",
    "\n",
    "# 3. Create and Train the Model:\n",
    "model = LinearRegression()\n",
    "model.fit(x_train, y_train)\n",
    "\n",
    "# 4. Make Predictions:\n",
    "y_pred = model.predict(x_test)\n",
    "\n",
    "# 5. Evaluate the Model:\n",
    "mse = mean_squared_error(y_test, y_pred)\n",
    "r2 = r2_score(y_test, y_pred)\n",
    "\n",
    "print(f\"Mean Squared Error (MSE): {mse}\")\n",
    "print(f\"R-squared (R2): {r2}\")\n",
    "\n",
    "# 6. Print coefficients\n",
    "print(f\"Intercept: {model.intercept_[0]}\")\n",
    "print(f\"Slope: {model.coef_[0][0]}\")"
   ]
  },
  {
   "cell_type": "code",
   "execution_count": null,
   "id": "885e201c-5fbb-4f45-b62d-97a0797ec5aa",
   "metadata": {},
   "outputs": [],
   "source": []
  }
 ],
 "metadata": {
  "kernelspec": {
   "display_name": "Python 3 (ipykernel)",
   "language": "python",
   "name": "python3"
  },
  "language_info": {
   "codemirror_mode": {
    "name": "ipython",
    "version": 3
   },
   "file_extension": ".py",
   "mimetype": "text/x-python",
   "name": "python",
   "nbconvert_exporter": "python",
   "pygments_lexer": "ipython3",
   "version": "3.12.7"
  }
 },
 "nbformat": 4,
 "nbformat_minor": 5
}
